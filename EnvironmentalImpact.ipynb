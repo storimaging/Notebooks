{
  "nbformat": 4,
  "nbformat_minor": 0,
  "metadata": {
    "colab": {
      "provenance": [],
      "authorship_tag": "ABX9TyPTfopqoDTMu9vsdpFcIpV9",
      "include_colab_link": true
    },
    "kernelspec": {
      "name": "python3",
      "display_name": "Python 3"
    },
    "language_info": {
      "name": "python"
    },
    "accelerator": "GPU",
    "gpuClass": "standard"
  },
  "cells": [
    {
      "cell_type": "markdown",
      "metadata": {
        "id": "view-in-github",
        "colab_type": "text"
      },
      "source": [
        "<a href=\"https://colab.research.google.com/github/storimaging/Notebooks/blob/main/EnvironmentalImpact.ipynb\" target=\"_parent\"><img src=\"https://colab.research.google.com/assets/colab-badge.svg\" alt=\"Open In Colab\"/></a>"
      ]
    },
    {
      "cell_type": "markdown",
      "source": [
        "# Environmental impact measurement"
      ],
      "metadata": {
        "id": "XYgSCQFfK50i"
      }
    },
    {
      "cell_type": "markdown",
      "source": [
        "## Introduction\n",
        "\n",
        "This practical session explains a way to measure the environmental impact of code running in a notebook. We will use the tool available https://www.green-algorithms.org in order to measure a part of greenhouse gas emissions related to consumption energy during the computer calculations. \n",
        "\n",
        "The tool requires the entry of various data in order to measure the environmental impact of the executed code. This notebook will explain how to obtain this data and we will calculate the carbon footprint produced by the execution of a denoising network at inference time."
      ],
      "metadata": {
        "id": "l9SoVI2PIw_b"
      }
    },
    {
      "cell_type": "markdown",
      "source": [
        "## Data Collection"
      ],
      "metadata": {
        "id": "uEIxT5ezMMGA"
      }
    },
    {
      "cell_type": "markdown",
      "source": [
        "### Types and number of cores\n",
        "\n",
        "If you are working in Colab, you can choose to run the code with CPU, GPU or TPU by choosing the option in **Runtime > Change runtime type**.\n",
        "\n",
        "To know the number of available cores and the model, you can execute the following commands.\n",
        "\n",
        "- `!nvidia-smi` will show the number of available GPUs and their model. In this case there is only one GPU and the model is Tesla T4.\n",
        "- `!lscpu` will display information about the available CPUs. In this case we have two CPUs, model Intel(R) Xeon(R) CPU @ 2.00GHz"
      ],
      "metadata": {
        "id": "hpd7487rMfS6"
      }
    },
    {
      "cell_type": "code",
      "source": [
        " !nvidia-smi"
      ],
      "metadata": {
        "colab": {
          "base_uri": "https://localhost:8080/"
        },
        "id": "JT_vNH5QMk0b",
        "outputId": "89f89745-b2cb-4431-f0e6-acc03cd5282c"
      },
      "execution_count": 1,
      "outputs": [
        {
          "output_type": "stream",
          "name": "stdout",
          "text": [
            "Fri Nov 11 15:00:56 2022       \n",
            "+-----------------------------------------------------------------------------+\n",
            "| NVIDIA-SMI 460.32.03    Driver Version: 460.32.03    CUDA Version: 11.2     |\n",
            "|-------------------------------+----------------------+----------------------+\n",
            "| GPU  Name        Persistence-M| Bus-Id        Disp.A | Volatile Uncorr. ECC |\n",
            "| Fan  Temp  Perf  Pwr:Usage/Cap|         Memory-Usage | GPU-Util  Compute M. |\n",
            "|                               |                      |               MIG M. |\n",
            "|===============================+======================+======================|\n",
            "|   0  Tesla T4            Off  | 00000000:00:04.0 Off |                    0 |\n",
            "| N/A   64C    P8    10W /  70W |      0MiB / 15109MiB |      0%      Default |\n",
            "|                               |                      |                  N/A |\n",
            "+-------------------------------+----------------------+----------------------+\n",
            "                                                                               \n",
            "+-----------------------------------------------------------------------------+\n",
            "| Processes:                                                                  |\n",
            "|  GPU   GI   CI        PID   Type   Process name                  GPU Memory |\n",
            "|        ID   ID                                                   Usage      |\n",
            "|=============================================================================|\n",
            "|  No running processes found                                                 |\n",
            "+-----------------------------------------------------------------------------+\n"
          ]
        }
      ]
    },
    {
      "cell_type": "code",
      "source": [
        " !lscpu"
      ],
      "metadata": {
        "colab": {
          "base_uri": "https://localhost:8080/"
        },
        "id": "ibdkp904MpRS",
        "outputId": "8b9e836d-4e4b-45b5-81c0-0eb1c0d6e8ff"
      },
      "execution_count": 2,
      "outputs": [
        {
          "output_type": "stream",
          "name": "stdout",
          "text": [
            "Architecture:        x86_64\n",
            "CPU op-mode(s):      32-bit, 64-bit\n",
            "Byte Order:          Little Endian\n",
            "CPU(s):              2\n",
            "On-line CPU(s) list: 0,1\n",
            "Thread(s) per core:  2\n",
            "Core(s) per socket:  1\n",
            "Socket(s):           1\n",
            "NUMA node(s):        1\n",
            "Vendor ID:           GenuineIntel\n",
            "CPU family:          6\n",
            "Model:               85\n",
            "Model name:          Intel(R) Xeon(R) CPU @ 2.00GHz\n",
            "Stepping:            3\n",
            "CPU MHz:             2000.190\n",
            "BogoMIPS:            4000.38\n",
            "Hypervisor vendor:   KVM\n",
            "Virtualization type: full\n",
            "L1d cache:           32K\n",
            "L1i cache:           32K\n",
            "L2 cache:            1024K\n",
            "L3 cache:            39424K\n",
            "NUMA node0 CPU(s):   0,1\n",
            "Flags:               fpu vme de pse tsc msr pae mce cx8 apic sep mtrr pge mca cmov pat pse36 clflush mmx fxsr sse sse2 ss ht syscall nx pdpe1gb rdtscp lm constant_tsc rep_good nopl xtopology nonstop_tsc cpuid tsc_known_freq pni pclmulqdq ssse3 fma cx16 pcid sse4_1 sse4_2 x2apic movbe popcnt aes xsave avx f16c rdrand hypervisor lahf_lm abm 3dnowprefetch invpcid_single ssbd ibrs ibpb stibp fsgsbase tsc_adjust bmi1 hle avx2 smep bmi2 erms invpcid rtm mpx avx512f avx512dq rdseed adx smap clflushopt clwb avx512cd avx512bw avx512vl xsaveopt xsavec xgetbv1 xsaves arat md_clear arch_capabilities\n"
          ]
        }
      ]
    },
    {
      "cell_type": "markdown",
      "source": [
        "### memory available"
      ],
      "metadata": {
        "id": "5sQmMPC-OY8O"
      }
    },
    {
      "cell_type": "code",
      "source": [
        "!grep MemTotal /proc/meminfo"
      ],
      "metadata": {
        "colab": {
          "base_uri": "https://localhost:8080/"
        },
        "id": "eRsasV6IObdj",
        "outputId": "c7a14959-7ce6-4814-d669-958c4629f884"
      },
      "execution_count": 3,
      "outputs": [
        {
          "output_type": "stream",
          "name": "stdout",
          "text": [
            "MemTotal:       13297228 kB\n"
          ]
        }
      ]
    },
    {
      "cell_type": "markdown",
      "source": [
        "From https://www.green-algorithms.org\n",
        "\n",
        "*The main factor impacting your footprint is the location of your servers: the same algorithm will emit 74 times more CO2e if ran in Australia compared to Switzerland. Although it's not always the case, many cloud providers offer the option to select a data centre.*\n",
        "\n",
        "*Memory power draw is a huge source of waste, because the energy consumption depends on the memory available, not the actual usage, only requesting the needed memory is a painless way to reduce greenhouse gas emissions.*\n",
        "\n",
        "*Generally, taking the time to write optimised code that runs faster with fewer resources saves both money and the planet.*\n",
        "\n",
        "*And above all, only run jobs that you need!*"
      ],
      "metadata": {
        "id": "L7z-RlQZLbzG"
      }
    }
  ]
}